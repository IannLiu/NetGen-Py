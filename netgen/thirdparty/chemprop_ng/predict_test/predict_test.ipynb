{
 "cells": [
  {
   "cell_type": "code",
   "execution_count": 1,
   "metadata": {
    "collapsed": true
   },
   "outputs": [],
   "source": [
    "import chemprop"
   ]
  },
  {
   "cell_type": "code",
   "execution_count": 2,
   "outputs": [
    {
     "name": "stdout",
     "output_type": "stream",
     "text": [
      "Loading training args\n",
      "Setting molecule featurization parameters to default.\n",
      "Loading data\n",
      "Validating SMILES\n",
      "Test size = 3\n"
     ]
    },
    {
     "name": "stderr",
     "output_type": "stream",
     "text": [
      "  0%|          | 0/1 [00:00<?, ?it/s]"
     ]
    },
    {
     "name": "stdout",
     "output_type": "stream",
     "text": [
      "Loading pretrained parameter \"encoder.encoder.0.cached_zero_vector\".\n",
      "Loading pretrained parameter \"encoder.encoder.0.W_i.weight\".\n",
      "Loading pretrained parameter \"encoder.encoder.0.W_h.weight\".\n",
      "Loading pretrained parameter \"encoder.encoder.0.W_o.weight\".\n",
      "Loading pretrained parameter \"encoder.encoder.0.W_o.bias\".\n",
      "Loading pretrained parameter \"readout.1.weight\".\n",
      "Loading pretrained parameter \"readout.1.bias\".\n",
      "Loading pretrained parameter \"readout.4.weight\".\n",
      "Loading pretrained parameter \"readout.4.bias\".\n",
      "Moving model to cuda\n"
     ]
    },
    {
     "name": "stderr",
     "output_type": "stream",
     "text": [
      "\n",
      "  0%|          | 0/1 [00:00<?, ?it/s]\u001B[A\n",
      "100%|██████████| 1/1 [00:00<00:00,  1.66it/s]\u001B[A\n",
      "100%|██████████| 1/1 [00:01<00:00,  1.33s/it]\u001B[A"
     ]
    },
    {
     "name": "stdout",
     "output_type": "stream",
     "text": [
      "Saving predictions to /dev/null\n",
      "Elapsed time = 0:00:01\n",
      "([[7.939595604951797], [13.455832409284753], [16.73729899560971]], [[6.300742417957018], [1.0463336762172162], [1.630387484295568]])\n"
     ]
    },
    {
     "name": "stderr",
     "output_type": "stream",
     "text": [
      "\n"
     ]
    },
    {
     "data": {
      "text/plain": "'\\n([[7.939595604951797], [13.455832409284753], [16.73729899560971]],\\n [[6.300742417957018], [1.0463336762172162], [1.630387484295568]])\\n'"
     },
     "execution_count": 2,
     "metadata": {},
     "output_type": "execute_result"
    }
   ],
   "source": [
    "arguments = [\n",
    "    '--test_path', '/dev/null',\n",
    "    '--preds_path', '/dev/null',\n",
    "    '--features_path', '/dev/null',\n",
    "    '--checkpoint_dir', '../trained_models/bimol01/fold_0/model_0',\n",
    "    '--uncertainty_method', 'evidential_total',\n",
    "]\n",
    "# args = chemprop.args.PredictArgs().parse_args(arguments)\n",
    "\n",
    "# model_objects = chemprop.train.load_model(args=args)\n",
    "\n",
    "smiles = [['[H:1].[O:2]>>[H:1][O:2]'],\n",
    "          ['[C:1]([H:2])[H:3].[H:4][H:5]>>[C:1]([H:2])([H:3])[H:4].[H:5]'],\n",
    "          ['[H:1].[H:2][O:3][O:4]>>[H:1][H:2].[O:3][O:4]']]\n",
    "features = [[0.85], [0.85], [0.85]]\n",
    "args = chemprop.args.PredictArgs().parse_args(arguments)\n",
    "preds = chemprop.train.make_predictions(args=args, smiles=smiles, return_uncertainty=True, features=features)\n",
    "print(preds)\n",
    "\"\"\"\n",
    "([[7.939595604951797], [13.455832409284753], [16.73729899560971]],\n",
    " [[6.300742417957018], [1.0463336762172162], [1.630387484295568]])\n",
    "\"\"\""
   ],
   "metadata": {
    "collapsed": false
   }
  },
  {
   "cell_type": "code",
   "execution_count": 4,
   "outputs": [
    {
     "name": "stdout",
     "output_type": "stream",
     "text": [
      "Loading training args\n",
      "Loading pretrained parameter \"encoder.encoder.0.cached_zero_vector\".\n",
      "Loading pretrained parameter \"encoder.encoder.0.W_i.weight\".\n",
      "Loading pretrained parameter \"encoder.encoder.0.W_h.weight\".\n",
      "Loading pretrained parameter \"encoder.encoder.0.W_o.weight\".\n",
      "Loading pretrained parameter \"encoder.encoder.0.W_o.bias\".\n",
      "Loading pretrained parameter \"readout.1.weight\".\n",
      "Loading pretrained parameter \"readout.1.bias\".\n",
      "Loading pretrained parameter \"readout.4.weight\".\n",
      "Loading pretrained parameter \"readout.4.bias\".\n",
      "Moving model to cuda\n"
     ]
    }
   ],
   "source": [
    "arguments = [\n",
    "    '--test_path', '/dev/null',\n",
    "    '--preds_path', '/dev/null',\n",
    "    '--features_path', '/dev/null',\n",
    "    '--checkpoint_dir', '../trained_models/bimol01/fold_0/model_0',\n",
    "    '--uncertainty_method', 'evidential_total',\n",
    "]\n",
    "args = chemprop.args.PredictArgs().parse_args(arguments)\n",
    "model_objects = chemprop.train.load_model(args=args)"
   ],
   "metadata": {
    "collapsed": false
   }
  },
  {
   "cell_type": "code",
   "execution_count": 5,
   "outputs": [
    {
     "name": "stdout",
     "output_type": "stream",
     "text": [
      "Setting molecule featurization parameters to default.\n",
      "Loading data\n",
      "Validating SMILES\n",
      "Test size = 3\n"
     ]
    },
    {
     "name": "stderr",
     "output_type": "stream",
     "text": [
      "  0%|          | 0/1 [00:00<?, ?it/s]\n",
      "  0%|          | 0/1 [00:00<?, ?it/s]\u001B[A\n",
      "100%|██████████| 1/1 [00:00<00:00,  6.34it/s]\u001B[A\n",
      "100%|██████████| 1/1 [00:00<00:00,  5.04it/s]\u001B[A"
     ]
    },
    {
     "name": "stdout",
     "output_type": "stream",
     "text": [
      "Saving predictions to /dev/null\n",
      "Elapsed time = 0:00:00\n",
      "([[7.939595604951797], [13.455832409284753], [16.73729899560971]], [[6.300742417957018], [1.0463336762172162], [1.630387484295568]])\n"
     ]
    },
    {
     "name": "stderr",
     "output_type": "stream",
     "text": [
      "\n"
     ]
    }
   ],
   "source": [
    "smiles = [['[H:1].[O:2]>>[H:1][O:2]'],\n",
    "          ['[C:1]([H:2])[H:3].[H:4][H:5]>>[C:1]([H:2])([H:3])[H:4].[H:5]'],\n",
    "          ['[H:1].[H:2][O:3][O:4]>>[H:1][H:2].[O:3][O:4]']]\n",
    "features = [[0.85], [0.85], [0.85]]\n",
    "# args = chemprop.args.PredictArgs().parse_args(arguments)\n",
    "preds = chemprop.train.make_predictions(args=args, smiles=smiles, return_uncertainty=True, features=features, model_objects=model_objects)\n",
    "print(preds)"
   ],
   "metadata": {
    "collapsed": false
   }
  },
  {
   "cell_type": "code",
   "execution_count": 6,
   "outputs": [
    {
     "name": "stdout",
     "output_type": "stream",
     "text": [
      "Setting molecule featurization parameters to default.\n",
      "Loading data\n",
      "Validating SMILES\n",
      "Test size = 3\n"
     ]
    },
    {
     "name": "stderr",
     "output_type": "stream",
     "text": [
      "  0%|          | 0/1 [00:00<?, ?it/s]\n",
      "  0%|          | 0/1 [00:00<?, ?it/s]\u001B[A\n",
      "100%|██████████| 1/1 [00:00<00:00,  6.53it/s]\u001B[A\n",
      "100%|██████████| 1/1 [00:00<00:00,  4.82it/s]\u001B[A"
     ]
    },
    {
     "name": "stdout",
     "output_type": "stream",
     "text": [
      "Saving predictions to /dev/null\n",
      "Elapsed time = 0:00:00\n",
      "([[7.939595604951797], [13.455832409284753], [16.73729899560971]], [[6.300742417957018], [1.0463336762172162], [1.630387484295568]])\n"
     ]
    },
    {
     "name": "stderr",
     "output_type": "stream",
     "text": [
      "\n"
     ]
    }
   ],
   "source": [
    "preds = chemprop.train.make_predictions(args=args, smiles=smiles, return_uncertainty=True, features=features, model_objects=model_objects)\n",
    "print(preds)"
   ],
   "metadata": {
    "collapsed": false
   }
  },
  {
   "cell_type": "code",
   "execution_count": null,
   "outputs": [],
   "source": [],
   "metadata": {
    "collapsed": false
   }
  }
 ],
 "metadata": {
  "kernelspec": {
   "display_name": "Python 3",
   "language": "python",
   "name": "python3"
  },
  "language_info": {
   "codemirror_mode": {
    "name": "ipython",
    "version": 2
   },
   "file_extension": ".py",
   "mimetype": "text/x-python",
   "name": "python",
   "nbconvert_exporter": "python",
   "pygments_lexer": "ipython2",
   "version": "2.7.6"
  }
 },
 "nbformat": 4,
 "nbformat_minor": 0
}
