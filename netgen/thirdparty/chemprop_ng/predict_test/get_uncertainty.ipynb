{
 "cells": [
  {
   "cell_type": "code",
   "execution_count": 1,
   "metadata": {
    "collapsed": true
   },
   "outputs": [],
   "source": [
    "import chemprop\n",
    "import os\n",
    "import numpy as np\n",
    "import pandas as pd\n",
    "\n",
    "def get_evidential_unc(evidential_dir: str,\n",
    "                       save_path: str,\n",
    "                       num_folds: int = 5,\n",
    "                       add_ground_truth: bool = True):\n",
    "    for fold_i in range(num_folds):\n",
    "        cp_dir = os.path.join(evidential_dir, f'fold_{fold_i}', f'model_0')\n",
    "        pred_data_path = os.path.join(evidential_dir, f'fold_{fold_i}', f'test_full.csv')\n",
    "        pred_feature_path = os.path.join(evidential_dir, f'fold_{fold_i}', 'test_features.csv')\n",
    "        arguments = [\n",
    "                    '--test_path', pred_data_path,\n",
    "                    '--preds_path', '/dev/null',\n",
    "                    '--checkpoint_dir', cp_dir,\n",
    "                    '--uncertainty_method', 'evidential_epistemic',\n",
    "                    '--features_path', pred_feature_path\n",
    "                ]\n",
    "\n",
    "        args = chemprop.args.PredictArgs().parse_args(arguments)\n",
    "        preds_epi = chemprop.train.make_predictions(args=args, return_uncertainty=True)\n",
    "        args.uncertainty_method = 'evidential_aleatoric'\n",
    "        preds_ale = chemprop.train.make_predictions(args=args, return_uncertainty=True)\n",
    "        ale = np.array(preds_ale)[1:2, :, :]\n",
    "        pred_fold = np.transpose(np.squeeze(np.concatenate([preds_epi, ale], axis=0)))\n",
    "        df_names = ['pred', 'evidential_epistemic', 'evidential_aleatoric']\n",
    "        evi_df = pd.DataFrame(data=pred_fold, columns=df_names)\n",
    "        if add_ground_truth:\n",
    "            ground_truth = pd.read_csv(pred_data_path)\n",
    "            evi_df = pd.concat([ground_truth, evi_df], axis=1)\n",
    "        evi_df.to_csv(f'{save_path}/evidential_fold_{fold_i}_pred.csv', index=False)"
   ]
  },
  {
   "cell_type": "code",
   "execution_count": 2,
   "outputs": [],
   "source": [
    "%%capture\n",
    "\n",
    "cp_path = os.path.join('../trained_models', 'bimol01')\n",
    "save_path = 'bimol01'\n",
    "if not os.path.exists(save_path):\n",
    "    os.makedirs(save_path)\n",
    "get_evidential_unc(evidential_dir=cp_path, save_path=save_path)"
   ],
   "metadata": {
    "collapsed": false
   }
  },
  {
   "cell_type": "code",
   "execution_count": 2,
   "outputs": [],
   "source": [],
   "metadata": {
    "collapsed": false
   }
  }
 ],
 "metadata": {
  "kernelspec": {
   "display_name": "Python 3",
   "language": "python",
   "name": "python3"
  },
  "language_info": {
   "codemirror_mode": {
    "name": "ipython",
    "version": 2
   },
   "file_extension": ".py",
   "mimetype": "text/x-python",
   "name": "python",
   "nbconvert_exporter": "python",
   "pygments_lexer": "ipython2",
   "version": "2.7.6"
  }
 },
 "nbformat": 4,
 "nbformat_minor": 0
}
