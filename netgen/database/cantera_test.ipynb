{
 "cells": [
  {
   "cell_type": "code",
   "execution_count": 1,
   "outputs": [],
   "source": [
    "import cantera as ct\n",
    "import yaml\n",
    "from netgen.common.data import register_id_key\n",
    "import os\n",
    "from typing import Literal\n",
    "from rdkit import Chem\n",
    "from netgen.common.rxn_similarity import get_similarity, get_rxn_fp"
   ],
   "metadata": {
    "collapsed": false,
    "ExecuteTime": {
     "end_time": "2024-04-29T15:36:01.168185900Z",
     "start_time": "2024-04-29T15:36:00.554531800Z"
    }
   },
   "id": "1e51bce65aceffe3"
  },
  {
   "cell_type": "code",
   "execution_count": 2,
   "outputs": [
    {
     "data": {
      "text/plain": "'rxn = gas.reaction(105)\\nprint(rxn.rate.type)\\nprint(rxn.rate.input_data)\\nprint(gas.forward_rate_constants[105])\\nprint(type(gas.forward_rate_constants[105]))'"
     },
     "execution_count": 2,
     "metadata": {},
     "output_type": "execute_result"
    }
   ],
   "source": [
    "gas = ct.Solution('Klippenstein_Glarborg2016/chem.yaml')\n",
    "gas.TP = 1000.0, 101325.0 * 5\n",
    "\"\"\"rxn = gas.reaction(105)\n",
    "print(rxn.rate.type)\n",
    "print(rxn.rate.input_data)\n",
    "print(gas.forward_rate_constants[105])\n",
    "print(type(gas.forward_rate_constants[105]))\"\"\""
   ],
   "metadata": {
    "collapsed": false,
    "ExecuteTime": {
     "end_time": "2024-04-29T15:36:01.500699800Z",
     "start_time": "2024-04-29T15:36:01.487576500Z"
    }
   },
   "id": "542b8a09722b94a"
  },
  {
   "cell_type": "code",
   "execution_count": 3,
   "outputs": [
    {
     "name": "stdout",
     "output_type": "stream",
     "text": [
      "{'falloff', 'pressure-dependent-Arrhenius', 'Arrhenius'}\n"
     ]
    }
   ],
   "source": [
    "reaction_type = set({})\n",
    "for reaction in gas.reactions():\n",
    "    reaction_type.add(reaction.rate.type)\n",
    "print(reaction_type)"
   ],
   "metadata": {
    "collapsed": false,
    "ExecuteTime": {
     "end_time": "2024-04-29T15:36:03.201213800Z",
     "start_time": "2024-04-29T15:36:03.197272800Z"
    }
   },
   "id": "35809743f4eea84a"
  },
  {
   "cell_type": "code",
   "execution_count": 5,
   "outputs": [],
   "source": [
    "# gas.forward_rate_constants  # Forward rate constants for all reactions.\n",
    "# gas.reverse_rate_constants\n",
    "# gas.reaction(1)\n",
    "# gas.reactions()\n",
    "# gas.reaction_equations()\n",
    "# gas.reaction_equations(indices=[1])\n",
    "# rxn.rate_coeff_units\n",
    "# rxn.efficiency\n",
    "# rxn.equation\n",
    "# rxn.reactants\n",
    "# rxn.third_body\n",
    "# rxn.rate\n",
    "# rxn.rate.type\n",
    "# rxn.rate.pre_exponential_factor\n",
    "# rxn.rate.activation_energy\n",
    "# rxn.rate.conversion_units\n",
    "# rxn.rate.allow_negative_pre_exponential_factor\n",
    "# rxn.rate.temperature_exponent\n",
    "\n",
    "# activation energy units J/kmol\n",
    "# pre_exponential_factor units: m, kmol, and s\n",
    "# reaction kinetic search\n",
    "# 1. white search. 2. dark search\n",
    "# white search is to search the reaction id_keys existence\n",
    "# dark search is to calculate the reaction similarity\n",
    "# search results is to return the: reaction smiles, reaction inputs, reaction rates\n",
    "# now we employ the in-memory search since the database is not too big\n",
    "\n",
    "# parsed database should contain the: smarts to index dictionary, reaction id_key to smarts index dictionary\n",
    "# users can figure out whether loading the exactly input dictionary\n",
    "# users can also define the usage of in-memory search\n"
   ],
   "metadata": {
    "collapsed": false
   },
   "id": "e55858e2e42b46a5"
  },
  {
   "cell_type": "code",
   "execution_count": null,
   "outputs": [],
   "source": [],
   "metadata": {
    "collapsed": false
   },
   "id": "3cc7c33b3d31ef2c"
  },
  {
   "cell_type": "code",
   "execution_count": null,
   "outputs": [],
   "source": [
    "# parsing the reaction rate database"
   ],
   "metadata": {
    "collapsed": false
   },
   "id": "7014fa5e7a0f598b"
  }
 ],
 "metadata": {
  "kernelspec": {
   "display_name": "Python 3",
   "language": "python",
   "name": "python3"
  },
  "language_info": {
   "codemirror_mode": {
    "name": "ipython",
    "version": 2
   },
   "file_extension": ".py",
   "mimetype": "text/x-python",
   "name": "python",
   "nbconvert_exporter": "python",
   "pygments_lexer": "ipython2",
   "version": "2.7.6"
  }
 },
 "nbformat": 4,
 "nbformat_minor": 5
}
