{
 "cells": [
  {
   "cell_type": "code",
   "execution_count": 1,
   "metadata": {
    "collapsed": true
   },
   "outputs": [],
   "source": [
    "%%capture\n",
    "from netgen.database.rmg_kinetics import get_all_kinetics_obj"
   ]
  },
  {
   "cell_type": "code",
   "execution_count": 15,
   "outputs": [
    {
     "data": {
      "text/plain": "[['library-Dooley/methylformate_all_N2bathgas',\n  Arrhenius(A=(0.000173078,'m^3/(mol*s)'), n=3.01596, Ea=(57.2213,'kJ/mol'), T0=(1,'K'), comment=\"\"\"Fitted to 29 data points; dA = *|/ 1.26521, dn = +|- 0.031143, dEa = +|- 0.162809 kJ/mol\"\"\"),\n  False],\n ['library-Dooley/methylformate_all_ARHEbathgas',\n  Arrhenius(A=(0.000173078,'m^3/(mol*s)'), n=3.01596, Ea=(57.2213,'kJ/mol'), T0=(1,'K'), comment=\"\"\"Fitted to 29 data points; dA = *|/ 1.26521, dn = +|- 0.031143, dEa = +|- 0.162809 kJ/mol\"\"\"),\n  False],\n ['library-Dooley/methylformate',\n  Arrhenius(A=(0.000173078,'m^3/(mol*s)'), n=3.01596, Ea=(57.2213,'kJ/mol'), T0=(1,'K'), comment=\"\"\"Fitted to 29 data points; dA = *|/ 1.26521, dn = +|- 0.031143, dEa = +|- 0.162809 kJ/mol\"\"\"),\n  False],\n ['library-JetSurF2.0',\n  Arrhenius(A=(4.08356e-09,'m^3/(mol*s)'), n=4.30596, Ea=(48.6859,'kJ/mol'), T0=(1,'K'), comment=\"\"\"Fitted to 29 data points; dA = *|/ 1.26521, dn = +|- 0.031143, dEa = +|- 0.162809 kJ/mol\"\"\"),\n  False],\n ['library-CurranPentane',\n  Arrhenius(A=(0.000173078,'m^3/(mol*s)'), n=3.01596, Ea=(57.2213,'kJ/mol'), T0=(1,'K'), comment=\"\"\"Fitted to 29 data points; dA = *|/ 1.26521, dn = +|- 0.031143, dEa = +|- 0.162809 kJ/mol\"\"\"),\n  False],\n ['library-JetSurF1.0',\n  Arrhenius(A=(4.08356e-09,'m^3/(mol*s)'), n=4.30596, Ea=(48.6859,'kJ/mol'), T0=(1,'K'), comment=\"\"\"Fitted to 29 data points; dA = *|/ 1.26521, dn = +|- 0.031143, dEa = +|- 0.162809 kJ/mol\"\"\"),\n  False],\n ['depository-H_Abstraction/training',\n  Arrhenius(A=(0.000724,'cm^3/(mol*s)','*|/',2), n=4.4, Ea=(45.1454,'kJ/mol'), T0=(1,'K'), Tmin=(300,'K'), Tmax=(2500,'K'), comment=\"\"\"Matched reaction 315 C3H7 + CH4b <=> C3H8 + CH3_p1 in H_Abstraction/training\n  This reaction matched rate rule [C_methane;C_rad/H/Cs\\H3/Cs\\H3]\n  family: H_Abstraction\"\"\"),\n  True],\n ['depository-H_Abstraction/training',\n  Arrhenius(A=(4.34317e-11,'m^3/(mol*s)'), n=5.18596, Ea=(53.4138,'kJ/mol'), T0=(1,'K'), Tmin=(300,'K'), Tmax=(1500,'K'), comment=\"\"\"Fitted to 29 data points; dA = *|/ 1.26521, dn = +|- 0.031143, dEa = +|- 0.162809 kJ/mol\"\"\"),\n  False],\n ['rate rules-H_Abstraction',\n  Arrhenius(A=(0.000724,'cm^3/(mol*s)','*|/',2), n=4.4, Ea=(45.1454,'kJ/mol'), T0=(1,'K'), Tmin=(300,'K'), Tmax=(2500,'K'), comment=\"\"\"From training reaction 315 used for C_methane;C_rad/H/Cs\\H3/Cs\\H3\n  Exact match found for rate rule [C_methane;C_rad/H/Cs\\H3/Cs\\H3]\n  Euclidian distance = 0\n  Multiplied by reaction path degeneracy 4.0\n  family: H_Abstraction\"\"\"),\n  True],\n ['group additivity-H_Abstraction',\n  Arrhenius(A=(739.316,'m^3/(mol*s)'), n=1.41739, Ea=(80.8984,'kJ/mol'), T0=(1,'K'), comment=\"\"\"Average of [Xbirad_H;Y_rad_birad_trirad_quadrad + Xrad_H;Y_rad_birad_trirad_quadrad + X_H;Y_rad_birad_trirad_quadrad + X_H_or_Xrad_H_Xbirad_H_Xtrirad_H;Y_1centertrirad + X_H_or_Xrad_H_Xbirad_H_Xtrirad_H;Y_1centerbirad + X_H_or_Xrad_H_Xbirad_H_Xtrirad_H;Y_rad]\n  Estimated using an average for rate rule [X_H_or_Xrad_H_Xbirad_H_Xtrirad_H;Y_rad_birad_trirad_quadrad]\n  Euclidian distance = 0\n  family: H_AbstractionMatched node C_methane >> Cs_H >> X_H >> X_H_or_Xrad_H_Xbirad_H_Xtrirad_H (Top node)\n  Matched node C_rad/H/Cs\\H3/Cs\\H3 >> C_rad/H/NonDeC >> C_sec_rad >> Cs_rad >> Y_rad >> Y_rad_birad_trirad_quadrad (Top node)\n  Multiplied by reaction path degeneracy 4.0\"\"\"),\n  True],\n ['rate rules-H_Abstraction',\n  Arrhenius(A=(4.34317e-11,'m^3/(mol*s)'), n=5.18596, Ea=(53.4138,'kJ/mol'), T0=(1,'K'), Tmin=(300,'K'), Tmax=(1500,'K'), comment=\"\"\"Fitted to 29 data points; dA = *|/ 1.26521, dn = +|- 0.031143, dEa = +|- 0.162809 kJ/mol\"\"\"),\n  False],\n ['group additivity-H_Abstraction',\n  Arrhenius(A=(0.999681,'m^3/(mol*s)'), n=2.26335, Ea=(106.656,'kJ/mol'), T0=(1,'K'), comment=\"\"\"Fitted to 29 data points; dA = *|/ 1.26521, dn = +|- 0.031143, dEa = +|- 0.162809 kJ/mol\"\"\"),\n  False]]"
     },
     "execution_count": 15,
     "metadata": {},
     "output_type": "execute_result"
    }
   ],
   "source": [
    "import numpy as np\n",
    "# smis = 'CC(C)(C)C>>C[C](C)C.[CH3]'\n",
    "# smis = 'CCC>>C[CH2].[CH3]'\n",
    "# smis = 'CC(C)C(=O)O>>CC(C)=C=O.O'\n",
    "smis = 'C.C[CH]C>>CCC.[CH3]'\n",
    "kins = get_all_kinetics_obj(smis)\n",
    "kins"
   ],
   "metadata": {
    "collapsed": false
   }
  },
  {
   "cell_type": "code",
   "execution_count": 14,
   "outputs": [
    {
     "ename": "IndexError",
     "evalue": "list index out of range",
     "output_type": "error",
     "traceback": [
      "\u001B[0;31m---------------------------------------------------------------------------\u001B[0m",
      "\u001B[0;31mIndexError\u001B[0m                                Traceback (most recent call last)",
      "\u001B[0;32m/tmp/ipykernel_9668/4061035088.py\u001B[0m in \u001B[0;36m<module>\u001B[0;34m\u001B[0m\n\u001B[0;32m----> 1\u001B[0;31m \u001B[0mkin_obj\u001B[0m \u001B[0;34m=\u001B[0m \u001B[0mkins\u001B[0m\u001B[0;34m[\u001B[0m\u001B[0;36m12\u001B[0m\u001B[0;34m]\u001B[0m\u001B[0;34m[\u001B[0m\u001B[0;36m1\u001B[0m\u001B[0;34m]\u001B[0m\u001B[0;34m\u001B[0m\u001B[0;34m\u001B[0m\u001B[0m\n\u001B[0m\u001B[1;32m      2\u001B[0m \u001B[0mkin_obj\u001B[0m\u001B[0;34m\u001B[0m\u001B[0;34m\u001B[0m\u001B[0m\n",
      "\u001B[0;31mIndexError\u001B[0m: list index out of range"
     ]
    }
   ],
   "source": [
    "kin_obj = kins[12][1]\n",
    "kin_obj"
   ],
   "metadata": {
    "collapsed": false
   }
  },
  {
   "cell_type": "code",
   "execution_count": 4,
   "outputs": [],
   "source": [
    "# from netgen.predictor.kin_predictor import Predictor"
   ],
   "metadata": {
    "collapsed": false
   }
  },
  {
   "cell_type": "code",
   "execution_count": 5,
   "outputs": [],
   "source": [
    "# pred = Predictor(temperature=1000, pressure=101325, search_type='rmg_database')"
   ],
   "metadata": {
    "collapsed": false
   }
  },
  {
   "cell_type": "code",
   "execution_count": 6,
   "outputs": [],
   "source": [
    "# pred.rmg_search(smarts=['CC(C)=C=O.O>>CC(C)C(=O)O'], forbidden_families=[\"1,3_insertion_ROR\"])"
   ],
   "metadata": {
    "collapsed": false
   }
  },
  {
   "cell_type": "code",
   "execution_count": 6,
   "outputs": [],
   "source": [],
   "metadata": {
    "collapsed": false
   }
  }
 ],
 "metadata": {
  "kernelspec": {
   "display_name": "Python 3",
   "language": "python",
   "name": "python3"
  },
  "language_info": {
   "codemirror_mode": {
    "name": "ipython",
    "version": 2
   },
   "file_extension": ".py",
   "mimetype": "text/x-python",
   "name": "python",
   "nbconvert_exporter": "python",
   "pygments_lexer": "ipython2",
   "version": "2.7.6"
  }
 },
 "nbformat": 4,
 "nbformat_minor": 0
}
